{
 "cells": [
  {
   "cell_type": "code",
   "execution_count": 26,
   "metadata": {},
   "outputs": [],
   "source": [
    "import pydicom\n",
    "import pandas as pd\n",
    "import hashlib\n",
    "import uuid"
   ]
  },
  {
   "cell_type": "code",
   "execution_count": 27,
   "metadata": {},
   "outputs": [],
   "source": [
    "def find_element_by_tag(dicom_file, desired_tag): \n",
    "\n",
    "    # Access the data element\n",
    "    data_element = dicom_file.get(desired_tag)\n",
    "\n",
    "    if data_element:  # If the data element is found\n",
    "        tag = data_element.tag\n",
    "        description = data_element.name\n",
    "        value = data_element.value\n",
    "        \n",
    "        # Output the tag, description, and value\n",
    "        print(f\"Tag: {tag}\")\n",
    "        print(f\"Description: {description}\")\n",
    "        print(f\"Value: {value}\")\n",
    "\n",
    "        return True\n",
    "\n",
    "    else:\n",
    "        print(f\"Tag {desired_tag} not found in the DICOM file.\")\n",
    "\n",
    "        return False"
   ]
  },
  {
   "cell_type": "code",
   "execution_count": 28,
   "metadata": {},
   "outputs": [],
   "source": [
    "def hash(original_value):\n",
    "    \n",
    "    hasher = hashlib.sha256()  # Use SHA-256 (or another SHA algorithm as per requirement)\n",
    "    hasher.update(original_value.encode('utf-8'))\n",
    "    return hasher.hexdigest()"
   ]
  },
  {
   "cell_type": "code",
   "execution_count": 29,
   "metadata": {},
   "outputs": [],
   "source": [
    "def hash_element_by_tag(dicom_file, desired_tag):\n",
    "    \n",
    "    if desired_tag in dicom_file: \n",
    "        original_value = dicom_file[desired_tag].value\n",
    "        hashed_value = hash(original_value)\n",
    "        dicom_file[desired_tag].value = hashed_value[:16]  # prevent exceeding from maximum length of 16 allowed for VR SH."
   ]
  },
  {
   "cell_type": "code",
   "execution_count": 30,
   "metadata": {},
   "outputs": [],
   "source": [
    "def delete_element_by_tag(dicom_file, desired_tag): \n",
    "    \n",
    "    if desired_tag in dicom_file: \n",
    "        del dicom_file[desired_tag]"
   ]
  },
  {
   "cell_type": "code",
   "execution_count": 31,
   "metadata": {},
   "outputs": [],
   "source": [
    "def autofill_element_by_tag(dicom_file, desired_tag): \n",
    "    \n",
    "    if desired_tag in dicom_file: \n",
    "        dicom_file[desired_tag].value = \"Anonymized\""
   ]
  },
  {
   "cell_type": "code",
   "execution_count": 32,
   "metadata": {},
   "outputs": [],
   "source": [
    "def sha512_hash_uid(original_uid, num_digits=39): \n",
    "    \n",
    "    # Create a SHA-512 hash of the input value\n",
    "    hasher = hashlib.sha512()\n",
    "    hasher.update(original_uid.encode('utf-8'))\n",
    "    hash_hex = hasher.hexdigest()\n",
    "    \n",
    "    # Take the first `num_digits` characters of the hash and convert to a decimal number\n",
    "    # This will be a portion of the hash, not the entire hash.\n",
    "    hash_numeric = int(hash_hex[:num_digits], 16)\n",
    "    \n",
    "    # Convert the number to a string, if it needs to be a string\n",
    "    hash_str = str(hash_numeric)\n",
    "    \n",
    "    # Truncate or pad the string to ensure it is exactly `num_digits` long\n",
    "    hash_str = (hash_str[:num_digits]).zfill(num_digits)\n",
    "    \n",
    "    return hash_str"
   ]
  },
  {
   "cell_type": "code",
   "execution_count": 33,
   "metadata": {},
   "outputs": [],
   "source": [
    "def transformUID_by_tag(dicom_file, desired_tag, chorus_id, institution_id, dataset_id, tag_id): \n",
    "\n",
    "    if desired_tag in dicom_file: \n",
    "        original_uid = dicom_file[desired_tag].value\n",
    "        new_uid = sha512_hash_uid(original_uid)\n",
    "\n",
    "        custom_uid = f\"{chorus_id}.{institution_id}.{dataset_id}.{tag_id}.{new_uid}\"\n",
    "\n",
    "        # Ensure the length of the UID does not exceed 64 characters\n",
    "        if len(custom_uid) > 64:\n",
    "            raise ValueError(\"The generated UID exceeds the maximum allowed length of 64 characters.\")\n",
    "    \n",
    "        dicom_file[desired_tag].value = custom_uid"
   ]
  },
  {
   "cell_type": "code",
   "execution_count": 34,
   "metadata": {},
   "outputs": [],
   "source": [
    "def text_tag_2_tuple(text_tag): \n",
    "\n",
    "    split_text_tag = text_tag.split(',')\n",
    "\n",
    "    decimal_group = split_text_tag[0]\n",
    "    decimal_element = split_text_tag[1]\n",
    "    \n",
    "    hexadecimal_group = '0x' + decimal_group\n",
    "    hexadecimal_element = '0x' + decimal_element\n",
    "    \n",
    "    return (int(hexadecimal_group, 16), int(hexadecimal_element, 16))"
   ]
  },
  {
   "cell_type": "code",
   "execution_count": 35,
   "metadata": {},
   "outputs": [
    {
     "name": "stdout",
     "output_type": "stream",
     "text": [
      "Tag (8, 42) not found in the DICOM file.\n",
      "Tag (12298, 195) not found in the DICOM file.\n",
      "Tag (12298, 221) not found in the DICOM file.\n",
      "Tag (22, 75) not found in the DICOM file.\n",
      "Tag (64, 41362) not found in the DICOM file.\n",
      "Tag (64, 41986) not found in the DICOM file.\n",
      "Tag (64, 41363) not found in the DICOM file.\n",
      "Tag (64, 41329) not found in the DICOM file.\n",
      "Tag: (0020, 000e)\n",
      "Description: Series Instance UID\n",
      "Value: 2.25.22373700284337223907674770690654453238\n",
      "Tag (12298, 434) not found in the DICOM file.\n",
      "Tag (12298, 422) not found in the DICOM file.\n",
      "Tag (64, 1786) not found in the DICOM file.\n",
      "Tag (12298, 534) not found in the DICOM file.\n",
      "Tag (64, 1290) not found in the DICOM file.\n",
      "Tag: (0020, 000d)\n",
      "Description: Study Instance UID\n",
      "Value: 2.25.106461954783291641048254423668956446198\n"
     ]
    }
   ],
   "source": [
    "dicom_file = pydicom.dcmread('sample_data/0_ORIGINAL.dcm')\n",
    "\n",
    "select_attr_path = 'MIDAS_checklist/MIDAS DICOM Tag De-identification Checklist_EA_Selected(1).xlsx'\n",
    "select_attr_df = pd.read_excel(select_attr_path, dtype=str)  # Openpyxl library == v3.0.10\n",
    "# print(select_attr_df.loc[:, \"Attribute Name\": \"Operation\"])\n",
    "\n",
    "chorus_id = \"1.2.840.113554\"\n",
    "institution_id = \"6\"\n",
    "dataset_id = \"1\"\n",
    "tag_id = \"104\"\n",
    "\n",
    "for _, row in select_attr_df.iterrows(): \n",
    "    if pd.notna(row['Tag']) \\\n",
    "        and ',' in row['Tag'] \\\n",
    "        and len(row['Tag'].split(',')) == 2 \\\n",
    "        and len(row['Tag'].split(',')[0]) == len(row['Tag'].split(',')[1]) == 4:\n",
    "\n",
    "        try: \n",
    "            desired_tag = text_tag_2_tuple(row['Tag'])\n",
    "        except ValueError:\n",
    "            print('invalid literal for int() with base 16: ' + row['Tag'])\n",
    "        else: \n",
    "            if find_element_by_tag(dicom_file, desired_tag): \n",
    "\n",
    "                if row['Operation'] == 'hash': \n",
    "                    hash_element_by_tag(dicom_file, desired_tag)\n",
    "                \n",
    "                elif row['Operation'] == 'delete': \n",
    "                    delete_element_by_tag(dicom_file, desired_tag)\n",
    "\n",
    "                elif row['Operation'] == 'autofill': \n",
    "                    autofill_element_by_tag(dicom_file, desired_tag)\n",
    "                \n",
    "                elif row['Operation'] == 'TransformUID': \n",
    "                    transformUID_by_tag(dicom_file, desired_tag, chorus_id, institution_id, dataset_id, tag_id)\n",
    "                \n",
    "                else: continue"
   ]
  },
  {
   "cell_type": "code",
   "execution_count": 36,
   "metadata": {},
   "outputs": [],
   "source": [
    "dicom_file.save_as('output_dicom/output.dcm')"
   ]
  },
  {
   "cell_type": "code",
   "execution_count": 37,
   "metadata": {},
   "outputs": [],
   "source": [
    "# dicom_file = pydicom.dcmread('sample_data/0_ORIGINAL.dcm') # sample_data/1.2.840.113619.2.80.2342848408.76634.1509736050.26.dcm\n",
    "\n",
    "# desired_tag = (0x0020,0x000D)\n",
    "# # desired_tag = (0x0008,0x0050)\n",
    "\n",
    "# print('Before: ')\n",
    "# find_element_by_tag(dicom_file, desired_tag)\n",
    "# print('')\n",
    "\n",
    "# print('After: ')\n",
    "# chorus_id = \"1.2.840.113554\"\n",
    "# institution_id = \"6\"\n",
    "# dataset_id = \"1\"\n",
    "# tag_id = \"104\"\n",
    "# transformUID_by_tag(dicom_file, desired_tag, chorus_id, institution_id, dataset_id, tag_id)\n",
    "# find_element_by_tag(dicom_file, desired_tag)\n",
    "\n",
    "# print('After: ')\n",
    "# hash_element_by_tag(dicom_file, desired_tag)\n",
    "# find_element_by_tag(dicom_file, desired_tag)\n",
    "\n",
    "# print('After: ')\n",
    "# autofill_element_by_tag(dicom_file, desired_tag)\n",
    "# find_element_by_tag(dicom_file, desired_tag)\n",
    "\n",
    "# print('After: ')\n",
    "# delete_element_by_tag(dicom_file, desired_tag)\n",
    "# find_element_by_tag(dicom_file, desired_tag)\n"
   ]
  }
 ],
 "metadata": {
  "kernelspec": {
   "display_name": "dicom-deid",
   "language": "python",
   "name": "python3"
  },
  "language_info": {
   "codemirror_mode": {
    "name": "ipython",
    "version": 3
   },
   "file_extension": ".py",
   "mimetype": "text/x-python",
   "name": "python",
   "nbconvert_exporter": "python",
   "pygments_lexer": "ipython3",
   "version": "3.8.18"
  }
 },
 "nbformat": 4,
 "nbformat_minor": 2
}
