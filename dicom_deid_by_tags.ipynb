{
 "cells": [
  {
   "cell_type": "code",
   "execution_count": 63,
   "metadata": {},
   "outputs": [],
   "source": [
    "import pydicom\n",
    "import pandas as pd\n",
    "import hashlib\n",
    "import uuid"
   ]
  },
  {
   "cell_type": "code",
   "execution_count": 64,
   "metadata": {},
   "outputs": [],
   "source": [
    "def find_element_by_tag(dicom_file, desired_tag): \n",
    "\n",
    "    # Access the data element\n",
    "    data_element = dicom_file.get(desired_tag)\n",
    "\n",
    "    if data_element:  # If the data element is found\n",
    "        tag = data_element.tag\n",
    "        description = data_element.name\n",
    "        value = data_element.value\n",
    "        \n",
    "        # Output the tag, description, and value\n",
    "        print(f\"Tag: {tag}\")\n",
    "        print(f\"Description: {description}\")\n",
    "        print(f\"Value: {value}\")\n",
    "\n",
    "        return True\n",
    "\n",
    "    else:\n",
    "        print(f\"Tag {desired_tag} not found in the DICOM file.\")\n",
    "\n",
    "        return False"
   ]
  },
  {
   "cell_type": "code",
   "execution_count": 65,
   "metadata": {},
   "outputs": [],
   "source": [
    "def hash(original_value):\n",
    "    \n",
    "    hasher = hashlib.sha256()  # Use SHA-256 (or another SHA algorithm as per requirement)\n",
    "    hasher.update(original_value.encode('utf-8'))\n",
    "    return hasher.hexdigest()"
   ]
  },
  {
   "cell_type": "code",
   "execution_count": 66,
   "metadata": {},
   "outputs": [],
   "source": [
    "def hash_element_by_tag(dicom_file, desired_tag):\n",
    "    \n",
    "    if desired_tag in dicom_file: \n",
    "        original_value = dicom_file[desired_tag].value\n",
    "        hashed_value = hash(original_value)\n",
    "        dicom_file[desired_tag].value = hashed_value[:16]  # prevent exceeding from maximum length of 16 allowed for VR SH."
   ]
  },
  {
   "cell_type": "code",
   "execution_count": 67,
   "metadata": {},
   "outputs": [],
   "source": [
    "def delete_element_by_tag(dicom_file, desired_tag): \n",
    "    \n",
    "    if desired_tag in dicom_file: \n",
    "        del dicom_file[desired_tag]"
   ]
  },
  {
   "cell_type": "code",
   "execution_count": 68,
   "metadata": {},
   "outputs": [],
   "source": [
    "def autofill_element_by_tag(dicom_file, desired_tag): \n",
    "    \n",
    "    if desired_tag in dicom_file: \n",
    "        dicom_file[desired_tag].value = \"Anonymized\""
   ]
  },
  {
   "cell_type": "code",
   "execution_count": 69,
   "metadata": {},
   "outputs": [],
   "source": [
    "def sha512_hash_uid(original_uid, num_digits=39): \n",
    "    \n",
    "    # Create a SHA-512 hash of the input value\n",
    "    hasher = hashlib.sha512()\n",
    "    hasher.update(original_uid.encode('utf-8'))\n",
    "    hash_hex = hasher.hexdigest()\n",
    "    \n",
    "    # Take the first `num_digits` characters of the hash and convert to a decimal number\n",
    "    # This will be a portion of the hash, not the entire hash.\n",
    "    hash_numeric = int(hash_hex[:num_digits], 16)\n",
    "    \n",
    "    # Convert the number to a string, if it needs to be a string\n",
    "    hash_str = str(hash_numeric)\n",
    "    \n",
    "    # Truncate or pad the string to ensure it is exactly `num_digits` long\n",
    "    hash_str = (hash_str[:num_digits]).zfill(num_digits)\n",
    "    \n",
    "    return hash_str"
   ]
  },
  {
   "cell_type": "code",
   "execution_count": 70,
   "metadata": {},
   "outputs": [],
   "source": [
    "def transformUID_by_tag(dicom_file, desired_tag, chorus_id, institution_id, dataset_id, tag_id): \n",
    "\n",
    "    if desired_tag in dicom_file: \n",
    "        original_uid = dicom_file[desired_tag].value\n",
    "        new_uid = sha512_hash_uid(original_uid)\n",
    "\n",
    "        custom_uid = f\"{chorus_id}.{institution_id}.{dataset_id}.{tag_id}.{new_uid}\"\n",
    "\n",
    "        # Ensure the length of the UID does not exceed 64 characters\n",
    "        if len(custom_uid) > 64:\n",
    "            raise ValueError(\"The generated UID exceeds the maximum allowed length of 64 characters.\")\n",
    "    \n",
    "        dicom_file[desired_tag].value = custom_uid"
   ]
  },
  {
   "cell_type": "code",
   "execution_count": 71,
   "metadata": {},
   "outputs": [],
   "source": [
    "def text_tag_2_tuple(text_tag): \n",
    "\n",
    "    split_text_tag = text_tag.split(',')\n",
    "\n",
    "    decimal_group = split_text_tag[0]\n",
    "    decimal_element = split_text_tag[1]\n",
    "    \n",
    "    hexadecimal_group = '0x' + decimal_group\n",
    "    hexadecimal_element = '0x' + decimal_element\n",
    "    \n",
    "    return (int(hexadecimal_group, 16), int(hexadecimal_element, 16))"
   ]
  },
  {
   "cell_type": "code",
   "execution_count": 72,
   "metadata": {},
   "outputs": [
    {
     "name": "stdout",
     "output_type": "stream",
     "text": [
      "Tag (8, 42) not found in the DICOM file.\n",
      "Tag (12298, 195) not found in the DICOM file.\n",
      "Tag (12298, 221) not found in the DICOM file.\n",
      "Tag (22, 75) not found in the DICOM file.\n",
      "Tag (64, 41362) not found in the DICOM file.\n",
      "Tag (64, 41986) not found in the DICOM file.\n",
      "Tag (64, 41363) not found in the DICOM file.\n",
      "Tag (64, 41329) not found in the DICOM file.\n",
      "Tag: (0020, 000e)\n",
      "Description: Series Instance UID\n",
      "Value: 2.25.22373700284337223907674770690654453238\n",
      "Tag (12298, 434) not found in the DICOM file.\n",
      "Tag (12298, 422) not found in the DICOM file.\n",
      "Tag (64, 1786) not found in the DICOM file.\n",
      "Tag (12298, 534) not found in the DICOM file.\n",
      "Tag (64, 1290) not found in the DICOM file.\n",
      "Tag: (0020, 000d)\n",
      "Description: Study Instance UID\n",
      "Value: 2.25.106461954783291641048254423668956446198\n"
     ]
    }
   ],
   "source": [
    "dicom_file = pydicom.dcmread('sample_data/0_ORIGINAL.dcm')\n",
    "\n",
    "select_attr_path = 'MIDAS_checklist/MIDAS DICOM Tag De-identification Checklist_EA_Selected(1).xlsx'\n",
    "select_attr_df = pd.read_excel(select_attr_path, dtype=str)  # Openpyxl library == v3.0.10\n",
    "# print(select_attr_df.loc[:, \"Attribute Name\": \"Operation\"])\n",
    "\n",
    "chorus_id = \"1.2.840.113554\"\n",
    "institution_id = \"6\"\n",
    "dataset_id = \"1\"\n",
    "tag_id = \"104\"\n",
    "\n",
    "operations_mapping = {\n",
    "    'hash': hash_element_by_tag,\n",
    "    'delete': delete_element_by_tag,\n",
    "    'autofill': autofill_element_by_tag,\n",
    "    'TransformUID': transformUID_by_tag\n",
    "}\n",
    "\n",
    "for _, row in select_attr_df.iterrows(): \n",
    "    if pd.notna(row['Tag']) \\\n",
    "        and ',' in row['Tag'] \\\n",
    "        and len(row['Tag'].split(',')) == 2 \\\n",
    "        and len(row['Tag'].split(',')[0]) == len(row['Tag'].split(',')[1]) == 4:\n",
    "\n",
    "        try: \n",
    "            desired_tag = text_tag_2_tuple(row['Tag'])\n",
    "        except ValueError:\n",
    "            print('invalid literal for int() with base 16: ' + row['Tag'])\n",
    "        else: \n",
    "            if find_element_by_tag(dicom_file, desired_tag):\n",
    "\n",
    "                operation = row['Operation']\n",
    "                if operation in operations_mapping:\n",
    "                    operations_mapping[operation](dicom_file, desired_tag, chorus_id, institution_id, dataset_id, tag_id)\n",
    "                else: continue"
   ]
  },
  {
   "cell_type": "code",
   "execution_count": 73,
   "metadata": {},
   "outputs": [
    {
     "name": "stdout",
     "output_type": "stream",
     "text": [
      "Tag: (0020, 000e)\n",
      "Description: Series Instance UID\n",
      "Value: 1.2.840.113554.6.1.104.770555882900834942659778881286574035560\n"
     ]
    },
    {
     "data": {
      "text/plain": [
       "True"
      ]
     },
     "execution_count": 73,
     "metadata": {},
     "output_type": "execute_result"
    }
   ],
   "source": [
    "find_element_by_tag(dicom_file, (0x0020, 0x000e))"
   ]
  },
  {
   "cell_type": "code",
   "execution_count": 74,
   "metadata": {},
   "outputs": [],
   "source": [
    "dicom_file.save_as('output_dicom/output.dcm')"
   ]
  },
  {
   "cell_type": "code",
   "execution_count": 77,
   "metadata": {},
   "outputs": [
    {
     "ename": "AttributeError",
     "evalue": "'FileDataset' object has no attribute 'AdmissionID'",
     "output_type": "error",
     "traceback": [
      "\u001b[0;31m---------------------------------------------------------------------------\u001b[0m",
      "\u001b[0;31mAttributeError\u001b[0m                            Traceback (most recent call last)",
      "\u001b[1;32m/home/local/PARTNERS/zl8/DICOM_DEID/dicom_deid_by_tags.ipynb Cell 13\u001b[0m line \u001b[0;36m3\n\u001b[1;32m      <a href='vscode-notebook-cell://ssh-remote%2Bmgh_camca_kevin_a100gpu5_server/home/local/PARTNERS/zl8/DICOM_DEID/dicom_deid_by_tags.ipynb#X14sdnNjb2RlLXJlbW90ZQ%3D%3D?line=0'>1</a>\u001b[0m dicom_file \u001b[39m=\u001b[39m pydicom\u001b[39m.\u001b[39mdcmread(\u001b[39m'\u001b[39m\u001b[39msample_data/0_ORIGINAL.dcm\u001b[39m\u001b[39m'\u001b[39m) \u001b[39m# sample_data/1.2.840.113619.2.80.2342848408.76634.1509736050.26.dcm\u001b[39;00m\n\u001b[1;32m      <a href='vscode-notebook-cell://ssh-remote%2Bmgh_camca_kevin_a100gpu5_server/home/local/PARTNERS/zl8/DICOM_DEID/dicom_deid_by_tags.ipynb#X14sdnNjb2RlLXJlbW90ZQ%3D%3D?line=2'>3</a>\u001b[0m \u001b[39m# desired_tag = (0x0020,0x000D)\u001b[39;00m\n\u001b[1;32m      <a href='vscode-notebook-cell://ssh-remote%2Bmgh_camca_kevin_a100gpu5_server/home/local/PARTNERS/zl8/DICOM_DEID/dicom_deid_by_tags.ipynb#X14sdnNjb2RlLXJlbW90ZQ%3D%3D?line=3'>4</a>\u001b[0m \u001b[39m# desired_tag = (0x0008,0x0050)\u001b[39;00m\n\u001b[1;32m      <a href='vscode-notebook-cell://ssh-remote%2Bmgh_camca_kevin_a100gpu5_server/home/local/PARTNERS/zl8/DICOM_DEID/dicom_deid_by_tags.ipynb#X14sdnNjb2RlLXJlbW90ZQ%3D%3D?line=4'>5</a>\u001b[0m \n\u001b[0;32m   (...)\u001b[0m\n\u001b[1;32m     <a href='vscode-notebook-cell://ssh-remote%2Bmgh_camca_kevin_a100gpu5_server/home/local/PARTNERS/zl8/DICOM_DEID/dicom_deid_by_tags.ipynb#X14sdnNjb2RlLXJlbW90ZQ%3D%3D?line=26'>27</a>\u001b[0m \u001b[39m# delete_element_by_tag(dicom_file, desired_tag)\u001b[39;00m\n\u001b[1;32m     <a href='vscode-notebook-cell://ssh-remote%2Bmgh_camca_kevin_a100gpu5_server/home/local/PARTNERS/zl8/DICOM_DEID/dicom_deid_by_tags.ipynb#X14sdnNjb2RlLXJlbW90ZQ%3D%3D?line=27'>28</a>\u001b[0m \u001b[39m# find_element_by_tag(dicom_file, desired_tag)\u001b[39;00m\n\u001b[0;32m---> <a href='vscode-notebook-cell://ssh-remote%2Bmgh_camca_kevin_a100gpu5_server/home/local/PARTNERS/zl8/DICOM_DEID/dicom_deid_by_tags.ipynb#X14sdnNjb2RlLXJlbW90ZQ%3D%3D?line=29'>30</a>\u001b[0m \u001b[39mprint\u001b[39m(dicom_file\u001b[39m.\u001b[39;49mAdmissionID)\n",
      "File \u001b[0;32m~/anaconda3/envs/dicom-deid/lib/python3.8/site-packages/pydicom/dataset.py:908\u001b[0m, in \u001b[0;36mDataset.__getattr__\u001b[0;34m(self, name)\u001b[0m\n\u001b[1;32m    906\u001b[0m     \u001b[39mreturn\u001b[39;00m {}\n\u001b[1;32m    907\u001b[0m \u001b[39m# Try the base class attribute getter (fix for issue 332)\u001b[39;00m\n\u001b[0;32m--> 908\u001b[0m \u001b[39mreturn\u001b[39;00m \u001b[39mobject\u001b[39;49m\u001b[39m.\u001b[39;49m\u001b[39m__getattribute__\u001b[39;49m(\u001b[39mself\u001b[39;49m, name)\n",
      "\u001b[0;31mAttributeError\u001b[0m: 'FileDataset' object has no attribute 'AdmissionID'"
     ]
    }
   ],
   "source": [
    "dicom_file = pydicom.dcmread('sample_data/0_ORIGINAL.dcm') # sample_data/1.2.840.113619.2.80.2342848408.76634.1509736050.26.dcm\n",
    "\n",
    "# desired_tag = (0x0020,0x000D)\n",
    "# desired_tag = (0x0008,0x0050)\n",
    "desired_tag = (0x0038,0x0010)\n",
    "\n",
    "# print('Before: ')\n",
    "# find_element_by_tag(dicom_file, desired_tag)\n",
    "# print('')\n",
    "\n",
    "# print('After: ')\n",
    "# chorus_id = \"1.2.840.113554\"\n",
    "# institution_id = \"6\"\n",
    "# dataset_id = \"1\"\n",
    "# tag_id = \"104\"\n",
    "# transformUID_by_tag(dicom_file, desired_tag, chorus_id, institution_id, dataset_id, tag_id)\n",
    "# find_element_by_tag(dicom_file, desired_tag)\n",
    "\n",
    "# print('After: ')\n",
    "# hash_element_by_tag(dicom_file, desired_tag)\n",
    "# find_element_by_tag(dicom_file, desired_tag)\n",
    "\n",
    "# print('After: ')\n",
    "# autofill_element_by_tag(dicom_file, desired_tag)\n",
    "# find_element_by_tag(dicom_file, desired_tag)\n",
    "\n",
    "# print('After: ')\n",
    "# delete_element_by_tag(dicom_file, desired_tag)\n",
    "# find_element_by_tag(dicom_file, desired_tag)\n",
    "\n",
    "print(dicom_file.AdmissionID)\n"
   ]
  }
 ],
 "metadata": {
  "kernelspec": {
   "display_name": "dicom-deid",
   "language": "python",
   "name": "python3"
  },
  "language_info": {
   "codemirror_mode": {
    "name": "ipython",
    "version": 3
   },
   "file_extension": ".py",
   "mimetype": "text/x-python",
   "name": "python",
   "nbconvert_exporter": "python",
   "pygments_lexer": "ipython3",
   "version": "3.8.0"
  }
 },
 "nbformat": 4,
 "nbformat_minor": 2
}
